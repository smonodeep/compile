{
  "nbformat": 4,
  "nbformat_minor": 0,
  "metadata": {
    "colab": {
      "name": "Untitled3.ipynb",
      "provenance": [],
      "collapsed_sections": [],
      "authorship_tag": "ABX9TyMcN6UGWcH3VnkHuyUswak/",
      "include_colab_link": true
    },
    "kernelspec": {
      "name": "python3",
      "display_name": "Python 3"
    }
  },
  "cells": [
    {
      "cell_type": "markdown",
      "metadata": {
        "id": "view-in-github",
        "colab_type": "text"
      },
      "source": [
        "<a href=\"https://colab.research.google.com/github/smonodeep/compile/blob/master/Image%20Recognition%20Basics.ipynb\" target=\"_parent\"><img src=\"https://colab.research.google.com/assets/colab-badge.svg\" alt=\"Open In Colab\"/></a>"
      ]
    },
    {
      "cell_type": "code",
      "metadata": {
        "id": "RMgqTZlfpvqE",
        "colab_type": "code",
        "colab": {}
      },
      "source": [
        "from keras.preprocessing.image import load_img\n",
        "import matplotlib.pyplot as plt\n",
        "%matplotlib inline\n",
        "import numpy as np"
      ],
      "execution_count": 0,
      "outputs": []
    },
    {
      "cell_type": "code",
      "metadata": {
        "id": "t4qWgZpVp6WI",
        "colab_type": "code",
        "colab": {}
      },
      "source": [
        "image=load_img('test_01_17052020.jpg')"
      ],
      "execution_count": 0,
      "outputs": []
    },
    {
      "cell_type": "code",
      "metadata": {
        "id": "e1w5qTS8qOgr",
        "colab_type": "code",
        "colab": {}
      },
      "source": [
        "np_image=np.array(image)"
      ],
      "execution_count": 0,
      "outputs": []
    },
    {
      "cell_type": "code",
      "metadata": {
        "id": "e19Sr2eLrKSQ",
        "colab_type": "code",
        "colab": {
          "base_uri": "https://localhost:8080/",
          "height": 34
        },
        "outputId": "10a6adef-049c-4374-95fc-ae3054a2db30"
      },
      "source": [
        "np_image.shape"
      ],
      "execution_count": 9,
      "outputs": [
        {
          "output_type": "execute_result",
          "data": {
            "text/plain": [
              "(122, 218, 3)"
            ]
          },
          "metadata": {
            "tags": []
          },
          "execution_count": 9
        }
      ]
    },
    {
      "cell_type": "code",
      "metadata": {
        "id": "DmXgqnnvrRbV",
        "colab_type": "code",
        "colab": {
          "base_uri": "https://localhost:8080/",
          "height": 850
        },
        "outputId": "6af7e163-b9e4-4e70-e91f-2f3021d6cd6b"
      },
      "source": [
        "np_image"
      ],
      "execution_count": 10,
      "outputs": [
        {
          "output_type": "execute_result",
          "data": {
            "text/plain": [
              "array([[[ 91, 108, 118],\n",
              "        [ 91, 108, 118],\n",
              "        [ 91, 108, 118],\n",
              "        ...,\n",
              "        [ 37,  55,   7],\n",
              "        [ 38,  55,  10],\n",
              "        [ 38,  55,  13]],\n",
              "\n",
              "       [[ 92, 109, 119],\n",
              "        [ 92, 109, 119],\n",
              "        [ 92, 109, 119],\n",
              "        ...,\n",
              "        [ 37,  55,   7],\n",
              "        [ 37,  54,   9],\n",
              "        [ 37,  54,  12]],\n",
              "\n",
              "       [[ 92, 109, 119],\n",
              "        [ 92, 109, 119],\n",
              "        [ 92, 109, 119],\n",
              "        ...,\n",
              "        [ 37,  55,   7],\n",
              "        [ 36,  53,   8],\n",
              "        [ 36,  53,  11]],\n",
              "\n",
              "       ...,\n",
              "\n",
              "       [[ 38,  31,  23],\n",
              "        [ 38,  31,  23],\n",
              "        [ 38,  31,  23],\n",
              "        ...,\n",
              "        [113,  76, 107],\n",
              "        [111,  76, 106],\n",
              "        [111,  77, 104]],\n",
              "\n",
              "       [[ 35,  28,  20],\n",
              "        [ 35,  28,  20],\n",
              "        [ 36,  29,  21],\n",
              "        ...,\n",
              "        [108,  73, 103],\n",
              "        [107,  72, 102],\n",
              "        [106,  73, 100]],\n",
              "\n",
              "       [[ 35,  28,  22],\n",
              "        [ 35,  28,  22],\n",
              "        [ 36,  29,  23],\n",
              "        ...,\n",
              "        [108,  73, 103],\n",
              "        [106,  73, 102],\n",
              "        [106,  73, 100]]], dtype=uint8)"
            ]
          },
          "metadata": {
            "tags": []
          },
          "execution_count": 10
        }
      ]
    },
    {
      "cell_type": "code",
      "metadata": {
        "id": "eQlvCUd_rmS2",
        "colab_type": "code",
        "colab": {}
      },
      "source": [
        ""
      ],
      "execution_count": 0,
      "outputs": []
    }
  ]
}